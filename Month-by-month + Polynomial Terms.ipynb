{
 "metadata": {
  "name": ""
 },
 "nbformat": 3,
 "nbformat_minor": 0,
 "worksheets": [
  {
   "cells": [
    {
     "cell_type": "code",
     "collapsed": false,
     "input": [
      "%pylab inline\n",
      "import pandas as pd\n",
      "from sklearn.decomposition import PCA\n",
      "from sklearn import preprocessing\n",
      "from sklearn import linear_model"
     ],
     "language": "python",
     "metadata": {},
     "outputs": [
      {
       "output_type": "stream",
       "stream": "stdout",
       "text": [
        "Populating the interactive namespace from numpy and matplotlib\n"
       ]
      }
     ],
     "prompt_number": 20
    },
    {
     "cell_type": "code",
     "collapsed": false,
     "input": [
      "train = pd.read_csv('train.csv')\n",
      "new_labels = train.columns.values\n",
      "new_labels[-1] = 'total_rentals'\n",
      "train.columns = new_labels\n",
      "print train[:5]\n",
      "\n",
      "print train.ix[:,9:12].shape\n",
      "\n",
      "fig,ax = plt.subplots(1,3)\n",
      "ax[0].plot(train.ix[:,9])\n",
      "ax[1].plot(train.ix[:,10])\n",
      "ax[2].plot(train.ix[:,11])\n",
      "plt.show()"
     ],
     "language": "python",
     "metadata": {},
     "outputs": [
      {
       "output_type": "stream",
       "stream": "stdout",
       "text": [
        "              datetime  season  holiday  workingday  weather  temp   atemp  \\\n",
        "0  2011-01-01 00:00:00       1        0           0        1  9.84  14.395   \n",
        "1  2011-01-01 01:00:00       1        0           0        1  9.02  13.635   \n",
        "2  2011-01-01 02:00:00       1        0           0        1  9.02  13.635   \n",
        "3  2011-01-01 03:00:00       1        0           0        1  9.84  14.395   \n",
        "4  2011-01-01 04:00:00       1        0           0        1  9.84  14.395   \n",
        "\n",
        "   humidity  windspeed  casual  registered  total_rentals  \n",
        "0        81          0       3          13             16  \n",
        "1        80          0       8          32             40  \n",
        "2        80          0       5          27             32  \n",
        "3        75          0       3          10             13  \n",
        "4        75          0       0           1              1  \n",
        "\n",
        "[5 rows x 12 columns]\n",
        "(10886, 3)\n"
       ]
      },
      {
       "metadata": {},
       "output_type": "display_data",
       "png": "[encoded data removed]",
       "text": [
        "<matplotlib.figure.Figure at 0x10c71bc50>"
       ]
      }
     ],
     "prompt_number": 36
    },
    {
     "cell_type": "code",
     "collapsed": false,
     "input": [
      "X = train.ix[:,1:9]\n",
      "for i,col in enumerate(X.columns[4:8]):\n",
      "    X.insert(i+8, col + str(2), X[col]**2)\n",
      "dts = [datetime.datetime.strptime(d,'%Y-%m-%d %H:%M:%S') for d in train.datetime]\n",
      "months = [d.month for d in dts]\n",
      "hours = [d.hour for d in dts]\n",
      "X.insert(0,'hour',hours)\n",
      "X.insert(0,'month',months)\n",
      "\n",
      "print X[:5]\n",
      "\n",
      "\n",
      "y = train.ix[:,-1:-4:-1]\n",
      "#print X.shape, y.shape\n",
      "#print y[:5]\n"
     ],
     "language": "python",
     "metadata": {},
     "outputs": [
      {
       "output_type": "stream",
       "stream": "stdout",
       "text": [
        "   month  hour  season  holiday  workingday  weather  temp   atemp  humidity  \\\n",
        "0      1     0       1        0           0        1  9.84  14.395        81   \n",
        "1      1     1       1        0           0        1  9.02  13.635        80   \n",
        "2      1     2       1        0           0        1  9.02  13.635        80   \n",
        "3      1     3       1        0           0        1  9.84  14.395        75   \n",
        "4      1     4       1        0           0        1  9.84  14.395        75   \n",
        "\n",
        "   windspeed    temp2      atemp2  humidity2  windspeed2  \n",
        "0          0  96.8256  207.216025       6561           0  \n",
        "1          0  81.3604  185.913225       6400           0  \n",
        "2          0  81.3604  185.913225       6400           0  \n",
        "3          0  96.8256  207.216025       5625           0  \n",
        "4          0  96.8256  207.216025       5625           0  \n",
        "\n",
        "[5 rows x 14 columns]\n"
       ]
      }
     ],
     "prompt_number": 37
    },
    {
     "cell_type": "code",
     "collapsed": false,
     "input": [
      "test_set = pd.read_csv('test.csv')\n",
      "for i,col in enumerate(test_set.columns[5:9]):\n",
      "    test_set.insert(i+9, col + str(2), test_set[col]**2)\n",
      "dts = [datetime.datetime.strptime(d,'%Y-%m-%d %H:%M:%S') for d in test_set.datetime]\n",
      "months = [d.month for d in dts]\n",
      "hours = [d.hour for d in dts]\n",
      "print len(months), len(hours)\n",
      "test_set.insert(1,'hour',hours)\n",
      "test_set.insert(1,'month',months)\n",
      "print test_set.shape\n",
      "test_set[:5]"
     ],
     "language": "python",
     "metadata": {},
     "outputs": [
      {
       "output_type": "stream",
       "stream": "stdout",
       "text": [
        "6493 6493\n",
        "(6493, 15)\n"
       ]
      },
      {
       "html": [
        "<div style=\"max-height:1000px;max-width:1500px;overflow:auto;\">\n",
        "<table border=\"1\" class=\"dataframe\">\n",
        "  <thead>\n",
        "    <tr style=\"text-align: right;\">\n",
        "      <th></th>\n",
        "      <th>datetime</th>\n",
        "      <th>month</th>\n",
        "      <th>hour</th>\n",
        "      <th>season</th>\n",
        "      <th>holiday</th>\n",
        "      <th>workingday</th>\n",
        "      <th>weather</th>\n",
        "      <th>temp</th>\n",
        "      <th>atemp</th>\n",
        "      <th>humidity</th>\n",
        "      <th>windspeed</th>\n",
        "      <th>temp2</th>\n",
        "      <th>atemp2</th>\n",
        "      <th>humidity2</th>\n",
        "      <th>windspeed2</th>\n",
        "    </tr>\n",
        "  </thead>\n",
        "  <tbody>\n",
        "    <tr>\n",
        "      <th>0</th>\n",
        "      <td> 2011-01-20 00:00:00</td>\n",
        "      <td> 1</td>\n",
        "      <td> 0</td>\n",
        "      <td> 1</td>\n",
        "      <td> 0</td>\n",
        "      <td> 1</td>\n",
        "      <td> 1</td>\n",
        "      <td> 10.66</td>\n",
        "      <td> 11.365</td>\n",
        "      <td> 56</td>\n",
        "      <td> 26.0027</td>\n",
        "      <td> 113.6356</td>\n",
        "      <td> 129.163225</td>\n",
        "      <td> 3136</td>\n",
        "      <td> 676.140407</td>\n",
        "    </tr>\n",
        "    <tr>\n",
        "      <th>1</th>\n",
        "      <td> 2011-01-20 01:00:00</td>\n",
        "      <td> 1</td>\n",
        "      <td> 1</td>\n",
        "      <td> 1</td>\n",
        "      <td> 0</td>\n",
        "      <td> 1</td>\n",
        "      <td> 1</td>\n",
        "      <td> 10.66</td>\n",
        "      <td> 13.635</td>\n",
        "      <td> 56</td>\n",
        "      <td>  0.0000</td>\n",
        "      <td> 113.6356</td>\n",
        "      <td> 185.913225</td>\n",
        "      <td> 3136</td>\n",
        "      <td>   0.000000</td>\n",
        "    </tr>\n",
        "    <tr>\n",
        "      <th>2</th>\n",
        "      <td> 2011-01-20 02:00:00</td>\n",
        "      <td> 1</td>\n",
        "      <td> 2</td>\n",
        "      <td> 1</td>\n",
        "      <td> 0</td>\n",
        "      <td> 1</td>\n",
        "      <td> 1</td>\n",
        "      <td> 10.66</td>\n",
        "      <td> 13.635</td>\n",
        "      <td> 56</td>\n",
        "      <td>  0.0000</td>\n",
        "      <td> 113.6356</td>\n",
        "      <td> 185.913225</td>\n",
        "      <td> 3136</td>\n",
        "      <td>   0.000000</td>\n",
        "    </tr>\n",
        "    <tr>\n",
        "      <th>3</th>\n",
        "      <td> 2011-01-20 03:00:00</td>\n",
        "      <td> 1</td>\n",
        "      <td> 3</td>\n",
        "      <td> 1</td>\n",
        "      <td> 0</td>\n",
        "      <td> 1</td>\n",
        "      <td> 1</td>\n",
        "      <td> 10.66</td>\n",
        "      <td> 12.880</td>\n",
        "      <td> 56</td>\n",
        "      <td> 11.0014</td>\n",
        "      <td> 113.6356</td>\n",
        "      <td> 165.894400</td>\n",
        "      <td> 3136</td>\n",
        "      <td> 121.030802</td>\n",
        "    </tr>\n",
        "    <tr>\n",
        "      <th>4</th>\n",
        "      <td> 2011-01-20 04:00:00</td>\n",
        "      <td> 1</td>\n",
        "      <td> 4</td>\n",
        "      <td> 1</td>\n",
        "      <td> 0</td>\n",
        "      <td> 1</td>\n",
        "      <td> 1</td>\n",
        "      <td> 10.66</td>\n",
        "      <td> 12.880</td>\n",
        "      <td> 56</td>\n",
        "      <td> 11.0014</td>\n",
        "      <td> 113.6356</td>\n",
        "      <td> 165.894400</td>\n",
        "      <td> 3136</td>\n",
        "      <td> 121.030802</td>\n",
        "    </tr>\n",
        "  </tbody>\n",
        "</table>\n",
        "<p>5 rows \u00d7 15 columns</p>\n",
        "</div>"
       ],
       "metadata": {},
       "output_type": "pyout",
       "prompt_number": 38,
       "text": [
        "              datetime  month  hour  season  holiday  workingday  weather  \\\n",
        "0  2011-01-20 00:00:00      1     0       1        0           1        1   \n",
        "1  2011-01-20 01:00:00      1     1       1        0           1        1   \n",
        "2  2011-01-20 02:00:00      1     2       1        0           1        1   \n",
        "3  2011-01-20 03:00:00      1     3       1        0           1        1   \n",
        "4  2011-01-20 04:00:00      1     4       1        0           1        1   \n",
        "\n",
        "    temp   atemp  humidity  windspeed     temp2      atemp2  humidity2  \\\n",
        "0  10.66  11.365        56    26.0027  113.6356  129.163225       3136   \n",
        "1  10.66  13.635        56     0.0000  113.6356  185.913225       3136   \n",
        "2  10.66  13.635        56     0.0000  113.6356  185.913225       3136   \n",
        "3  10.66  12.880        56    11.0014  113.6356  165.894400       3136   \n",
        "4  10.66  12.880        56    11.0014  113.6356  165.894400       3136   \n",
        "\n",
        "   windspeed2  \n",
        "0  676.140407  \n",
        "1    0.000000  \n",
        "2    0.000000  \n",
        "3  121.030802  \n",
        "4  121.030802  \n",
        "\n",
        "[5 rows x 15 columns]"
       ]
      }
     ],
     "prompt_number": 38
    },
    {
     "cell_type": "code",
     "collapsed": false,
     "input": [
      "lm = linear_model.LinearRegression(fit_intercept=True)\n",
      "y_tot = y_reg = y_cas = np.asarray([])\n",
      "mean_score = 0\n",
      "for m in range(1,13):\n",
      "    lm.fit(X[X.month == m],y[X.month == m])\n",
      "    mean_score += lm.score(X[X.month == m],y[X.month == m])/12\n",
      "    pred = lm.predict(test_set.ix[test_set.month == m,1:])\n",
      "    y_tot = np.append(y_tot, pred[:,0])\n",
      "    y_reg = np.append(y_reg, pred[:,1])\n",
      "    y_cas = np.append(y_cas, pred[:,2])\n",
      "\n",
      "print mean_score\n",
      "    \n",
      "y_cas[y_cas < 0] = 0\n",
      "y_reg[y_reg < 0] = 0    \n",
      "    \n",
      "plt.plot(y_cas)\n",
      "plt.plot(y_reg)\n",
      "plt.plot(y_cas+y_reg)\n",
      "\n"
     ],
     "language": "python",
     "metadata": {},
     "outputs": [
      {
       "output_type": "stream",
       "stream": "stdout",
       "text": [
        "0.331365010722\n"
       ]
      },
      {
       "metadata": {},
       "output_type": "pyout",
       "prompt_number": 40,
       "text": [
        "[<matplotlib.lines.Line2D at 0x10c152410>]"
       ]
      },
      {
       "metadata": {},
       "output_type": "display_data",
       "png": "[encoded data removed]",
       "text": [
        "<matplotlib.figure.Figure at 0x10af60150>"
       ]
      }
     ],
     "prompt_number": 40
    },
    {
     "cell_type": "heading",
     "level": 4,
     "metadata": {},
     "source": [
      "Write out the submission!"
     ]
    },
    {
     "cell_type": "code",
     "collapsed": false,
     "input": [
      "sample_submission = pd.read_csv('sampleSubmission.csv')\n",
      "new_labels = sample_submission.columns.values\n",
      "new_labels[-1] = 'total_rentals'\n",
      "sample_submission.columns = new_labels\n",
      "print sample_submission.shape\n",
      "\n",
      "my_submission = sample_submission.copy()\n",
      "new_labels = my_submission.columns.values\n",
      "new_labels[-1] = 'total_rentals'\n",
      "my_submission.columns = new_labels\n",
      "my_submission.total_rentals = np.round(y_cas+y_reg)\n",
      "# my_submission.loc[my_submission.total_rentals < 0,'total_rentals'] = 0\n",
      "plt.plot(my_submission.total_rentals)\n",
      "plt.plot(test_set.atemp)\n",
      "plt.show()\n",
      "print my_submission.shape\n",
      "my_submission[:5]"
     ],
     "language": "python",
     "metadata": {},
     "outputs": [
      {
       "output_type": "stream",
       "stream": "stdout",
       "text": [
        "(6493, 2)\n"
       ]
      },
      {
       "metadata": {},
       "output_type": "display_data",
       "png": "[encoded data removed]",
       "text": [
        "<matplotlib.figure.Figure at 0x10d1844d0>"
       ]
      },
      {
       "output_type": "stream",
       "stream": "stdout",
       "text": [
        "(6493, 2)\n"
       ]
      },
      {
       "html": [
        "<div style=\"max-height:1000px;max-width:1500px;overflow:auto;\">\n",
        "<table border=\"1\" class=\"dataframe\">\n",
        "  <thead>\n",
        "    <tr style=\"text-align: right;\">\n",
        "      <th></th>\n",
        "      <th>datetime</th>\n",
        "      <th>total_rentals</th>\n",
        "    </tr>\n",
        "  </thead>\n",
        "  <tbody>\n",
        "    <tr>\n",
        "      <th>0</th>\n",
        "      <td> 2011-01-20 00:00:00</td>\n",
        "      <td> 67</td>\n",
        "    </tr>\n",
        "    <tr>\n",
        "      <th>1</th>\n",
        "      <td> 2011-01-20 01:00:00</td>\n",
        "      <td> 92</td>\n",
        "    </tr>\n",
        "    <tr>\n",
        "      <th>2</th>\n",
        "      <td> 2011-01-20 02:00:00</td>\n",
        "      <td> 95</td>\n",
        "    </tr>\n",
        "    <tr>\n",
        "      <th>3</th>\n",
        "      <td> 2011-01-20 03:00:00</td>\n",
        "      <td> 85</td>\n",
        "    </tr>\n",
        "    <tr>\n",
        "      <th>4</th>\n",
        "      <td> 2011-01-20 04:00:00</td>\n",
        "      <td> 88</td>\n",
        "    </tr>\n",
        "  </tbody>\n",
        "</table>\n",
        "<p>5 rows \u00d7 2 columns</p>\n",
        "</div>"
       ],
       "metadata": {},
       "output_type": "pyout",
       "prompt_number": 45,
       "text": [
        "              datetime  total_rentals\n",
        "0  2011-01-20 00:00:00             67\n",
        "1  2011-01-20 01:00:00             92\n",
        "2  2011-01-20 02:00:00             95\n",
        "3  2011-01-20 03:00:00             85\n",
        "4  2011-01-20 04:00:00             88\n",
        "\n",
        "[5 rows x 2 columns]"
       ]
      }
     ],
     "prompt_number": 45
    },
    {
     "cell_type": "code",
     "collapsed": false,
     "input": [
      "new_labels = my_submission.columns.values\n",
      "new_labels[-1] = 'count'\n",
      "my_submission.columns = new_labels\n",
      "my_submission.to_csv('poly_month-to-month.csv',index=False)"
     ],
     "language": "python",
     "metadata": {},
     "outputs": [],
     "prompt_number": 44
    },
    {
     "cell_type": "code",
     "collapsed": false,
     "input": [],
     "language": "python",
     "metadata": {},
     "outputs": []
    }
   ],
   "metadata": {}
  }
 ]
}